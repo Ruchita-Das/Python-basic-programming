{
 "cells": [
  {
   "cell_type": "code",
   "execution_count": 2,
   "id": "db3584ce",
   "metadata": {},
   "outputs": [
    {
     "name": "stdout",
     "output_type": "stream",
     "text": [
      "Enter first number\n",
      "345\n",
      "Enter second number\n",
      "45345\n",
      "Hence, 1042935 is the required LCM\n"
     ]
    }
   ],
   "source": [
    "# To find LCM \n",
    "x=int(input(\"Enter first number\\n\"))\n",
    "y=int(input(\"Enter second number\\n\"))\n",
    "if x>y:\n",
    "    greatest=x\n",
    "else:\n",
    "    greatest=y\n",
    "while(True):\n",
    "    if(greatest%x==0) and (greatest%y==0):\n",
    "        lcm=greatest\n",
    "        break \n",
    "    greatest+=1\n",
    "print(\"Hence, {} is the required LCM\".format(lcm))\n",
    "    \n",
    "\n"
   ]
  },
  {
   "cell_type": "code",
   "execution_count": 3,
   "id": "14cf97ae",
   "metadata": {},
   "outputs": [
    {
     "name": "stdout",
     "output_type": "stream",
     "text": [
      "Enter first number\n",
      "34\n",
      "Enter second number\n",
      "56\n",
      "Hence the HCF of 34 and 56 is 2\n"
     ]
    }
   ],
   "source": [
    "#To find HCF\n",
    "a=int(input(\"Enter first number\\n\"))\n",
    "b=int(input(\"Enter second number\\n\"))\n",
    "l=[]\n",
    "r=[]\n",
    "for i in range(1,a+1):\n",
    "    if(a%i==0):\n",
    "        l.append(i)\n",
    "for i in range(1,b+1):\n",
    "    if(b%i==0):\n",
    "        r.append(i)\n",
    "def common(a,b):\n",
    "    c=[i for i in l if i in r]\n",
    "    return c\n",
    "factors=common(a,b)\n",
    "hcf=factors[-1]\n",
    "print(\"Hence the HCF of {} and {} is {}\".format(a,b,hcf))\n",
    "        "
   ]
  },
  {
   "cell_type": "code",
   "execution_count": 31,
   "id": "87bc1eb7",
   "metadata": {},
   "outputs": [
    {
     "name": "stdout",
     "output_type": "stream",
     "text": [
      "Enter the decimal number to be converted\n",
      "100\n",
      "The binary conversion is 1100100\n",
      "The octal  conversion is 144\n",
      "The hexadecimal conversion is 64\n"
     ]
    }
   ],
   "source": [
    "#To Convert Decimal to Binary, Octal and Hexadecimal\n",
    "x=int(input(\"Enter the decimal number to be converted\\n\"))\n",
    "print(\"The binary conversion is {}\".format(bin(x)[2:]))\n",
    "print(\"The octal  conversion is {}\".format(oct(x)[2:]))\n",
    "print(\"The hexadecimal conversion is {}\".format(hex(x)[2:]))"
   ]
  },
  {
   "cell_type": "code",
   "execution_count": 30,
   "id": "5214505b",
   "metadata": {},
   "outputs": [
    {
     "name": "stdout",
     "output_type": "stream",
     "text": [
      "Enter the character whose ASCII value is to be found\n",
      "a\n",
      "The required ASCII value is 97\n"
     ]
    }
   ],
   "source": [
    "#To Find ASCII value of a character\n",
    "x=input(\"Enter the character whose ASCII value is to be found\\n\")\n",
    "print(\"The required ASCII value is {}\".format(ord(x)))\n"
   ]
  },
  {
   "cell_type": "code",
   "execution_count": 7,
   "id": "4d0afeab",
   "metadata": {},
   "outputs": [
    {
     "name": "stdout",
     "output_type": "stream",
     "text": [
      "Enter the first number\n",
      "12\n",
      "Enter the second number\n",
      "3\n",
      "For addition,type 1\n",
      "For subtraction,type 2\n",
      "For multiplication type 3\n",
      "For division type 4\n",
      "25\n",
      "Error!Please type 1,2,3,4 for the basic operations accomodated by this calculator\n"
     ]
    }
   ],
   "source": [
    "#To Make a Simple Calculator with 4 basic mathematical operations\n",
    "x=int(input(\"Enter the first number\\n\"))\n",
    "y=int(input(\"Enter the second number\\n\"))\n",
    "z=input(\"For addition,type 1\\nFor subtraction,type 2\\nFor multiplication type 3\\nFor division type 4\\n\")\n",
    "if(z=='1'):\n",
    "    add=x+y\n",
    "    print(\"Hence the addition of {} and {} is  {}\".format(x,y,add))\n",
    "elif(z=='2'):\n",
    "    subtract=x-y\n",
    "    print(\"Hence the subtraction of {} and {} is  {}\".format(x,y,subtract))\n",
    "elif(z=='3'):\n",
    "    multiply=x*y\n",
    "    print(\"Hence the multiplication of {} and {} is  {}\".format(x,y,multiply))\n",
    "elif(z=='4'):\n",
    "    divide=x/y\n",
    "    print(\"Hence the division of {} and {} is  {}\".format(x,y,divide))\n",
    "else:\n",
    "    print(\"Error!Please type 1,2,3,4 for the basic operations accomodated by this calculator\")\n"
   ]
  },
  {
   "cell_type": "code",
   "execution_count": null,
   "id": "ff34ac94",
   "metadata": {},
   "outputs": [],
   "source": []
  }
 ],
 "metadata": {
  "kernelspec": {
   "display_name": "Python 3 (ipykernel)",
   "language": "python",
   "name": "python3"
  },
  "language_info": {
   "codemirror_mode": {
    "name": "ipython",
    "version": 3
   },
   "file_extension": ".py",
   "mimetype": "text/x-python",
   "name": "python",
   "nbconvert_exporter": "python",
   "pygments_lexer": "ipython3",
   "version": "3.9.12"
  }
 },
 "nbformat": 4,
 "nbformat_minor": 5
}

{
 "cells": [
  {
   "cell_type": "code",
   "execution_count": 2,
   "id": "765598fc",
   "metadata": {},
   "outputs": [
    {
     "name": "stdout",
     "output_type": "stream",
     "text": [
      "Enter the number whose factorial you want to find\n",
      "12\n",
      "Hence factorial is 479001600\n"
     ]
    }
   ],
   "source": [
    "#1 answer\n",
    "n=int(input(\"Enter the number whose factorial you want to find\\n\"))\n",
    "fact=1\n",
    "while n>=1:\n",
    "    fact=fact*n\n",
    "    n=n-1\n",
    "print(\"Hence factorial is\",fact)  "
   ]
  },
  {
   "cell_type": "code",
   "execution_count": 12,
   "id": "02cdeebd",
   "metadata": {},
   "outputs": [
    {
     "name": "stdout",
     "output_type": "stream",
     "text": [
      "Enter the number whose multiplication table you want to see\n",
      "2\n",
      "2 * 1 = 2\n",
      "2 * 2 = 4\n",
      "2 * 3 = 6\n",
      "2 * 4 = 8\n",
      "2 * 5 = 10\n",
      "2 * 6 = 12\n",
      "2 * 7 = 14\n",
      "2 * 8 = 16\n",
      "2 * 9 = 18\n",
      "2 * 10 = 20\n"
     ]
    }
   ],
   "source": [
    "#2 answer\n",
    "n=int(input(\"Enter the number whose multiplication table you want to see\\n\"))\n",
    "for i in range(1,11):\n",
    "    product=n*i\n",
    "    print(n,end=\" \")\n",
    "    print('*',end=\" \")\n",
    "    print(i,end=\" \")\n",
    "    print('=',end=\" \")\n",
    "    print(product)\n"
   ]
  },
  {
   "cell_type": "code",
   "execution_count": 3,
   "id": "b80475ce",
   "metadata": {},
   "outputs": [
    {
     "name": "stdout",
     "output_type": "stream",
     "text": [
      "enter the number till which you want to see the fibonacci series\n",
      "5\n",
      "The required fibonacci series  is-\n",
      "0\n",
      "1\n",
      "1\n",
      "2\n",
      "3\n"
     ]
    }
   ],
   "source": [
    "#3 answer\n",
    "n=int(input(\"enter the number till which you want to see the fibonacci series\\n\"))\n",
    "a=0\n",
    "b=1\n",
    "i=0\n",
    "print(\"The required fibonacci series  is-\")\n",
    "while i<n:\n",
    "    print(a)\n",
    "    a,b=b,a+b\n",
    "    i=i+1"
   ]
  },
  {
   "cell_type": "code",
   "execution_count": 3,
   "id": "13e7250d",
   "metadata": {},
   "outputs": [
    {
     "name": "stdout",
     "output_type": "stream",
     "text": [
      "Enter the number:\n",
      "9474\n",
      "not armstrong\n"
     ]
    }
   ],
   "source": [
    "#4 answer\n",
    "n=int(input(\"Enter the number:\\n\"))\n",
    "sum=0\n",
    "temp=n\n",
    "order = len(str(n))\n",
    "while (temp>0):\n",
    "    digit=n%10\n",
    "    sum=sum+(digit**order)\n",
    "    temp=temp//10\n",
    "if n==sum:\n",
    "    print(n,\"is armstrong\")\n",
    "else:\n",
    "    print(\"not armstrong\")\n",
    "    \n"
   ]
  },
  {
   "cell_type": "code",
   "execution_count": 6,
   "id": "b7c60a24",
   "metadata": {},
   "outputs": [
    {
     "name": "stdout",
     "output_type": "stream",
     "text": [
      "Enter starting number of interval:\n",
      "2\n",
      "Enter end number of interval:\n",
      "20\n",
      "The list of armstrong numbers within 2 and 20 are:\n",
      "\n",
      "2 is an armstrong number\n",
      "3 is not an armstrong number\n",
      "4 is not an armstrong number\n",
      "5 is not an armstrong number\n",
      "6 is not an armstrong number\n",
      "7 is not an armstrong number\n",
      "8 is not an armstrong number\n",
      "9 is not an armstrong number\n",
      "10 is not an armstrong number\n",
      "11 is not an armstrong number\n",
      "12 is not an armstrong number\n",
      "13 is not an armstrong number\n",
      "14 is not an armstrong number\n",
      "15 is not an armstrong number\n",
      "16 is not an armstrong number\n",
      "17 is not an armstrong number\n",
      "18 is not an armstrong number\n",
      "19 is not an armstrong number\n",
      "20 is not an armstrong number\n"
     ]
    }
   ],
   "source": [
    "start=int(input(\"Enter starting number of interval:\\n\"))\n",
    "end=int(input(\"Enter end number of interval:\\n\"))\n",
    "print(\"The list of armstrong numbers within\",start,\"and\",end,\"are:\\n\")\n",
    "sum=0\n",
    "for i in range(start,end+1):\n",
    "    order = len(str(i))\n",
    "    temp=i\n",
    "    while (temp>0):\n",
    "        digit=temp%10\n",
    "        sum=sum+(digit**order)\n",
    "        temp=temp//10\n",
    "    if i==sum:\n",
    "        print(i,\"is an armstrong number\")\n",
    "    else:\n",
    "        print(i,\"is not an armstrong number\")\n",
    "   \n",
    "    \n"
   ]
  },
  {
   "cell_type": "code",
   "execution_count": 2,
   "id": "da5dc967",
   "metadata": {},
   "outputs": [
    {
     "name": "stdout",
     "output_type": "stream",
     "text": [
      "enter the number till which we want to find sum of all natural numbers:\n",
      "20\n",
      "The required sum is 210\n"
     ]
    }
   ],
   "source": [
    "#6 answer\n",
    "n=int(input(\"enter the number till which we want to find sum of all natural numbers:\\n\"))\n",
    "sum=0\n",
    "for i in range(1,n+1):\n",
    "    sum=sum+i\n",
    "print('The required sum is',sum)\n",
    "    "
   ]
  },
  {
   "cell_type": "code",
   "execution_count": null,
   "id": "85cf44bd",
   "metadata": {},
   "outputs": [],
   "source": []
  },
  {
   "cell_type": "code",
   "execution_count": null,
   "id": "cc1f8027",
   "metadata": {},
   "outputs": [],
   "source": []
  },
  {
   "cell_type": "code",
   "execution_count": null,
   "id": "39a0df04",
   "metadata": {},
   "outputs": [],
   "source": []
  },
  {
   "cell_type": "code",
   "execution_count": null,
   "id": "305247e3",
   "metadata": {},
   "outputs": [],
   "source": []
  },
  {
   "cell_type": "code",
   "execution_count": null,
   "id": "38694c62",
   "metadata": {},
   "outputs": [],
   "source": []
  },
  {
   "cell_type": "code",
   "execution_count": null,
   "id": "609efef0",
   "metadata": {},
   "outputs": [],
   "source": []
  },
  {
   "cell_type": "code",
   "execution_count": null,
   "id": "2c329092",
   "metadata": {},
   "outputs": [],
   "source": []
  },
  {
   "cell_type": "code",
   "execution_count": null,
   "id": "1d8a6cce",
   "metadata": {},
   "outputs": [],
   "source": []
  },
  {
   "cell_type": "code",
   "execution_count": null,
   "id": "a11d8c80",
   "metadata": {},
   "outputs": [],
   "source": []
  },
  {
   "cell_type": "code",
   "execution_count": null,
   "id": "c3419d8b",
   "metadata": {},
   "outputs": [],
   "source": []
  },
  {
   "cell_type": "code",
   "execution_count": null,
   "id": "d606f259",
   "metadata": {},
   "outputs": [],
   "source": []
  },
  {
   "cell_type": "code",
   "execution_count": null,
   "id": "f8c6e6ed",
   "metadata": {},
   "outputs": [],
   "source": []
  },
  {
   "cell_type": "code",
   "execution_count": null,
   "id": "d0c4fd9b",
   "metadata": {},
   "outputs": [],
   "source": []
  },
  {
   "cell_type": "code",
   "execution_count": null,
   "id": "0dde3395",
   "metadata": {},
   "outputs": [],
   "source": []
  },
  {
   "cell_type": "code",
   "execution_count": null,
   "id": "60ef8c6c",
   "metadata": {},
   "outputs": [],
   "source": []
  },
  {
   "cell_type": "code",
   "execution_count": null,
   "id": "23d4f6d7",
   "metadata": {},
   "outputs": [],
   "source": []
  },
  {
   "cell_type": "code",
   "execution_count": null,
   "id": "983a1cf1",
   "metadata": {},
   "outputs": [],
   "source": []
  },
  {
   "cell_type": "code",
   "execution_count": null,
   "id": "d6629b87",
   "metadata": {},
   "outputs": [],
   "source": []
  },
  {
   "cell_type": "code",
   "execution_count": null,
   "id": "ae78a7e7",
   "metadata": {},
   "outputs": [],
   "source": []
  },
  {
   "cell_type": "code",
   "execution_count": null,
   "id": "ac452a8c",
   "metadata": {},
   "outputs": [],
   "source": []
  },
  {
   "cell_type": "code",
   "execution_count": null,
   "id": "93c2cd6a",
   "metadata": {},
   "outputs": [],
   "source": []
  },
  {
   "cell_type": "code",
   "execution_count": null,
   "id": "f75f98fe",
   "metadata": {},
   "outputs": [],
   "source": []
  },
  {
   "cell_type": "code",
   "execution_count": null,
   "id": "16548415",
   "metadata": {},
   "outputs": [],
   "source": []
  },
  {
   "cell_type": "code",
   "execution_count": null,
   "id": "c41b4905",
   "metadata": {},
   "outputs": [],
   "source": []
  },
  {
   "cell_type": "code",
   "execution_count": null,
   "id": "53ac6a2b",
   "metadata": {},
   "outputs": [],
   "source": []
  },
  {
   "cell_type": "code",
   "execution_count": null,
   "id": "968679c2",
   "metadata": {},
   "outputs": [],
   "source": []
  },
  {
   "cell_type": "code",
   "execution_count": null,
   "id": "88050294",
   "metadata": {},
   "outputs": [],
   "source": []
  },
  {
   "cell_type": "code",
   "execution_count": null,
   "id": "5fb3bbba",
   "metadata": {},
   "outputs": [],
   "source": []
  },
  {
   "cell_type": "code",
   "execution_count": null,
   "id": "3e752de0",
   "metadata": {},
   "outputs": [],
   "source": []
  },
  {
   "cell_type": "code",
   "execution_count": null,
   "id": "cf2fd196",
   "metadata": {},
   "outputs": [],
   "source": []
  },
  {
   "cell_type": "code",
   "execution_count": null,
   "id": "ea69a5a2",
   "metadata": {},
   "outputs": [],
   "source": []
  },
  {
   "cell_type": "code",
   "execution_count": null,
   "id": "eb5bb4ae",
   "metadata": {},
   "outputs": [],
   "source": []
  }
 ],
 "metadata": {
  "kernelspec": {
   "display_name": "Python 3 (ipykernel)",
   "language": "python",
   "name": "python3"
  },
  "language_info": {
   "codemirror_mode": {
    "name": "ipython",
    "version": 3
   },
   "file_extension": ".py",
   "mimetype": "text/x-python",
   "name": "python",
   "nbconvert_exporter": "python",
   "pygments_lexer": "ipython3",
   "version": "3.9.12"
  }
 },
 "nbformat": 4,
 "nbformat_minor": 5
}
